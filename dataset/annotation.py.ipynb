{
 "cells": [
  {
   "cell_type": "code",
   "execution_count": 10,
   "metadata": {},
   "outputs": [
    {
     "name": "stdout",
     "output_type": "stream",
     "text": [
      "-----------------------\n"
     ]
    },
    {
     "name": "stderr",
     "output_type": "stream",
     "text": [
      "/home/ubuntu/anaconda3/lib/python3.6/site-packages/ipykernel_launcher.py:66: DeprecationWarning: `imread` is deprecated!\n",
      "`imread` is deprecated in SciPy 1.0.0.\n",
      "Use ``matplotlib.pyplot.imread`` instead.\n"
     ]
    },
    {
     "name": "stdout",
     "output_type": "stream",
     "text": [
      "-----------------------\n",
      "-----------------------\n",
      "-----------------------\n",
      "-----------------------\n",
      "-----------------------\n",
      "-----------------------\n",
      "-----------------------\n",
      "-----------------------\n",
      "-----------------------\n",
      "Done!\n"
     ]
    }
   ],
   "source": [
    "import json\n",
    "import os\n",
    "import scipy.ndimage\n",
    "import numpy as np\n",
    "import matplotlib.path as mpltPath\n",
    "import pdb\n",
    "\n",
    "#base_path = '/home/ubuntu/data/'\n",
    "base_path = '/home/ubuntu/data'\n",
    "slide_ids = [int(x) for x in os.listdir(base_path+\"/patches/\") if x.isdigit()]\n",
    "\n",
    "#f = open(\"/mys3bucket/Annotations/annotations.txt\", encoding=\"utf-8\")\n",
    "\n",
    "f = open(\"/home/ubuntu/data/Annotations/annotations.txt\", encoding=\"utf-8\")\n",
    "data = json.loads(f.read())\n",
    "f.close()\n",
    "\n",
    "slide_based_regions = {}\n",
    "for annotation in data:\n",
    "    slide = annotation['slideId']\n",
    "    shape = annotation['shape']\n",
    "    if slide in slide_ids and len(shape) > 1:\n",
    "        if slide not in slide_based_regions:\n",
    "            slide_based_regions[slide] = []\n",
    "            slide_based_regions[slide].append(shape)\n",
    "        else:\n",
    "            slide_based_regions[slide].append(shape)\n",
    "\n",
    "def isInside(point, polygon):\n",
    "    path = mpltPath.Path(polygon)\n",
    "    return path.contains_point(point)\n",
    "\n",
    "X_train = []\n",
    "Y_train = []\n",
    "count = 0 \n",
    "for slide_id in slide_based_regions.keys():\n",
    "    \n",
    "    \n",
    "        \n",
    "    slide_csv_path = base_path + \"/patches/\" + str(slide_id) + \"/\" + str(slide_id) + \".csv\"\n",
    "    patch_regions = {}\n",
    "\n",
    "    f = open(slide_csv_path, \"r\")\n",
    "    lines = f.readlines()\n",
    "    f.close()\n",
    "    \n",
    "    for line in lines:\n",
    "        patch_id = int((line.strip().split(',')[0]).split('_')[1])\n",
    "        x, y = int(line.strip().split(',')[1]), int(line.strip().split(',')[2])\n",
    "        center_x, center_y = x + 128, y + 128\n",
    "        patch_regions[patch_id] = (center_x, center_y)\n",
    "        \n",
    "    print(\"-----------------------\")\n",
    "    \n",
    "    shapes = slide_based_regions[slide_id]\n",
    "    for patch_id in patch_regions.keys():\n",
    "        center_point = patch_regions[patch_id]\n",
    "        flag = 0\n",
    "        for shape in shapes:\n",
    "            if isInside(center_point, shape):\n",
    "                flag = 1\n",
    "                break\n",
    "\n",
    "        Y_train.append(flag)\n",
    "        patch_path = base_path + \"/patches/\" + str(slide_id) + \"/patch_\" + str(patch_id) + \".jpg\"\n",
    "        image = scipy.ndimage.imread(patch_path)\n",
    "        X_train.append(image)\n",
    "    count+=1\n",
    "    if count == 10:\n",
    "        break\n",
    "\n",
    "X_train = np.array(X_train)\n",
    "Y_train = np.array(Y_train)\n",
    "np.savez(\"training_data\", X=X_train, Y=Y_train)\n",
    "print(\"Done!\")"
   ]
  },
  {
   "cell_type": "code",
   "execution_count": null,
   "metadata": {},
   "outputs": [],
   "source": []
  }
 ],
 "metadata": {
  "kernelspec": {
   "display_name": "Python 3",
   "language": "python",
   "name": "python3"
  },
  "language_info": {
   "codemirror_mode": {
    "name": "ipython",
    "version": 3
   },
   "file_extension": ".py",
   "mimetype": "text/x-python",
   "name": "python",
   "nbconvert_exporter": "python",
   "pygments_lexer": "ipython3",
   "version": "3.6.5"
  }
 },
 "nbformat": 4,
 "nbformat_minor": 2
}
