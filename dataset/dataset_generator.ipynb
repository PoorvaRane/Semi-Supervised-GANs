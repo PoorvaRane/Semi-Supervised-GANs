{
 "cells": [
  {
   "cell_type": "code",
   "execution_count": null,
   "metadata": {},
   "outputs": [],
   "source": [
    "import json\n",
    "import os\n",
    "import scipy.ndimage\n",
    "import numpy as np\n",
    "import matplotlib.path as mpltPath\n",
    "from matplotlib.path import Path\n",
    "from random import shuffle\n",
    "from openslide import open_slide, ImageSlide\n",
    "import scipy.io as sio\n",
    "import pdb\n",
    "import sys\n"
   ]
  },
  {
   "cell_type": "code",
   "execution_count": null,
   "metadata": {},
   "outputs": [],
   "source": [
    "#File paths\n",
    "slide_path = '/mys3bucket/TCGA_LUSC'\n",
    "slides = os.listdir(slide_path)\n",
    "save_path = '/home/ubuntu/codebase/Semi-Supervised-GANs/dataset/patch_data'\n",
    "\n",
    "no_patches = 1000\n",
    "chunk_size = 20\n",
    "img_size = 256"
   ]
  },
  {
   "cell_type": "code",
   "execution_count": null,
   "metadata": {},
   "outputs": [],
   "source": [
    "def split(data):\n",
    "    N = len(data)\n",
    "    trn_idx = int(np.ceil(0.8*N))\n",
    "    train = data[:trn_idx]\n",
    "    test = data[trn_idx:]\n",
    "    \n",
    "    return train,test"
   ]
  },
  {
   "cell_type": "code",
   "execution_count": null,
   "metadata": {},
   "outputs": [],
   "source": [
    "def get_mask(coords):\n",
    "    unsorted_coords = coords\n",
    "    coords.sort(key=lambda x: x[0],reverse=True)\n",
    "    xmin,xmax = coords[-1][0],coords[0][0]\n",
    "    coords.sort(key=lambda x: x[1],reverse=True)\n",
    "    ymin,ymax = coords[-1][1],coords[0][1]\n",
    "    maximum = max(xmax,ymax)\n",
    "    minimum = min(xmin,ymin)\n",
    "    x, y = np.meshgrid(np.arange(minimum,maximum), np.arange(minimum,maximum))\n",
    "    print(\"Done generating meshgrid!\")\n",
    "    x, y = x.flatten(), y.flatten()\n",
    "    points = np.vstack((x,y)).T\n",
    "    p = Path(unsorted_coords)\n",
    "    grid = p.contains_points(points)\n",
    "    mask = grid.reshape((maximum-minimum),(maximum-minimum))\n",
    "    mask = mask.astype(int)\n",
    "    x_coords,y_coords = np.nonzero(mask)\n",
    "    sample_idxs = np.random.choice(x_coords, no_patches)\n",
    "    return x[sample_idxs],y[sample_idxs]\n",
    "    "
   ]
  },
  {
   "cell_type": "code",
   "execution_count": null,
   "metadata": {},
   "outputs": [],
   "source": [
    "def read_patches(x_coords,y_coords,slide_src,label):\n",
    "    gen_dataX = []\n",
    "    gen_dataY = []\n",
    "    image = open_slide(slide_src)\n",
    "    for i in range(len(x_coords)):\n",
    "        patch = image.read_region((x_coords[i]-(img_size//2),y_coords[i]-(img_size//2)),0,(256,256)) #find top left pixel\n",
    "        patch = patch.convert(\"RGB\")\n",
    "        patch = np.array(patch)\n",
    "        # check for black patches\n",
    "        if not np.sum(patch)==0 :\n",
    "            gen_dataX.append(patch)\n",
    "            gen_dataY.append(label)\n",
    "        \n",
    "        #Code to save patches as images\n",
    "        #outfile = os.path.join(slide_dest,\"patch_\"+str(i)+\".jpg\")\n",
    "        #patch.save(outfile,'JPEG')\n",
    "        #g.write((\"patch_\"+str(count)+\",\"+str(x_coords[i])+\",\"+str(y_coords[i])+\"\\n\"))\n",
    "    \n",
    "    image.close()\n",
    "    print(\"Generated patches!\")\n",
    "    return gen_dataX,gen_dataY"
   ]
  },
  {
   "cell_type": "code",
   "execution_count": null,
   "metadata": {},
   "outputs": [],
   "source": [
    "def get_slide_path(slideID):\n",
    "    for slide in slides:\n",
    "        if str(slideID) == str(slide.split('_')[0]):\n",
    "            return os.path.join(slide_path,slide)\n",
    "    return -1"
   ]
  },
  {
   "cell_type": "code",
   "execution_count": null,
   "metadata": {},
   "outputs": [],
   "source": [
    "def get_random_polygon(shape):\n",
    "    if len(shape)>1:\n",
    "        return shape\n",
    "    return -1"
   ]
  },
  {
   "cell_type": "code",
   "execution_count": null,
   "metadata": {},
   "outputs": [],
   "source": [
    "def generate_data(data,mode,ltype):\n",
    "       \n",
    "    for slide in data:\n",
    "        DATAX = []\n",
    "        DATAY = [] \n",
    "        count = 0\n",
    "        slide_src = get_slide_path(slide)\n",
    "        print(str(slide)+\" has \"+ str(len(data[slide]))+\" annotations\")\n",
    "        for polygon in data[slide]:\n",
    "            count+=1\n",
    "            coords = [tuple(x) for x in polygon]\n",
    "            x_coords,y_coords = get_mask(coords)\n",
    "            # Get label\n",
    "            if ltype == 'cancer':\n",
    "                label = 1\n",
    "            else:\n",
    "                label = 0\n",
    "\n",
    "            X,Y = read_patches(x_coords,y_coords,slide_src,label)\n",
    "            print(len(Y))\n",
    "            DATAX.extend(X)\n",
    "            DATAY.extend(Y)\n",
    "\n",
    "            print(\">>>>\"+str(count))\n",
    "\n",
    "            #Saving chunks of data containing slide_threshold*no_patches\n",
    "\n",
    "        outfile = os.path.join(save_path,mode,str(slide))\n",
    "        np.savez(outfile,np.asarray(DATAX),np.asarray(DATAY))\n",
    "        print(\"*****************************************************\")\n",
    "        "
   ]
  },
  {
   "cell_type": "code",
   "execution_count": null,
   "metadata": {},
   "outputs": [],
   "source": [
    "def get_statistics(data):\n",
    "    count_cancerous = 0\n",
    "    count_noncancerous = 0\n",
    "    cancer_dict = {}\n",
    "    noncancer_dict = {}\n",
    "    for annotation in data:\n",
    "        slide = annotation['slideId']\n",
    "        slide_src = get_slide_path(slide)\n",
    "        shape = annotation['shape']\n",
    "        polygon = get_random_polygon(shape)\n",
    "        if not slide_src == -1 and not polygon == -1 :\n",
    "            if (annotation['annotationSubstanceId'] in [330,331]) :\n",
    "                if slide not in cancer_dict:\n",
    "                    cancer_dict[slide] = []\n",
    "                    cancer_dict[slide].append(polygon)\n",
    "                else:\n",
    "                    cancer_dict[slide].append(polygon)\n",
    "                count_cancerous+=1\n",
    "            else:\n",
    "                if slide not in noncancer_dict:\n",
    "                    noncancer_dict[slide] = []\n",
    "                    noncancer_dict[slide].append(polygon)\n",
    "                else:\n",
    "                    noncancer_dict[slide].append(polygon)                \n",
    "                count_noncancerous+=1\n",
    "    return cancer_dict, noncancer_dict\n",
    "        "
   ]
  },
  {
   "cell_type": "code",
   "execution_count": null,
   "metadata": {},
   "outputs": [],
   "source": [
    "#Shuffle the data\n",
    "f = open(\"/mys3bucket/Annotations/annotations.txt\", encoding=\"utf-8\")\n",
    "data = json.loads(f.read())\n",
    "f.close()\n",
    "\n",
    "\n",
    "#shuffle(data)\n",
    "train,test = split(data)\n",
    "cancer, noncancer = get_statistics(train)"
   ]
  },
  {
   "cell_type": "code",
   "execution_count": null,
   "metadata": {},
   "outputs": [],
   "source": [
    "#Generate Cancerous Patches\n",
    "generate_data(cancer,'train','cancer')\n",
    "print(\"Train data generated!\")"
   ]
  },
  {
   "cell_type": "code",
   "execution_count": null,
   "metadata": {},
   "outputs": [],
   "source": [
    "#generate_data(dev, no_dev_slides,'dev')\n",
    "#print(\"Dev data generated!\")"
   ]
  },
  {
   "cell_type": "code",
   "execution_count": null,
   "metadata": {},
   "outputs": [],
   "source": [
    "#generate_data(test, no_test_slides,'test')\n",
    "#print(\"Test data generated! \")"
   ]
  }
 ],
 "metadata": {
  "kernelspec": {
   "display_name": "Python [conda env:pytorch_p36]",
   "language": "python",
   "name": "conda-env-pytorch_p36-py"
  },
  "language_info": {
   "codemirror_mode": {
    "name": "ipython",
    "version": 3
   },
   "file_extension": ".py",
   "mimetype": "text/x-python",
   "name": "python",
   "nbconvert_exporter": "python",
   "pygments_lexer": "ipython3",
   "version": "3.6.6"
  }
 },
 "nbformat": 4,
 "nbformat_minor": 2
}
